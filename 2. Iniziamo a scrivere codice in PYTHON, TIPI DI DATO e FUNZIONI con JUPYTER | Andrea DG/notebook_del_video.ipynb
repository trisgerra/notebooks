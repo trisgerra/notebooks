{
 "cells": [
  {
   "cell_type": "code",
   "execution_count": 59,
   "id": "68bcf1c0-9005-4e43-9aec-4ca2ae7b3f58",
   "metadata": {},
   "outputs": [
    {
     "name": "stdout",
     "output_type": "stream",
     "text": [
      "Hello Jupyter!\n"
     ]
    }
   ],
   "source": [
    "print(\"Hello Jupyter!\")"
   ]
  },
  {
   "cell_type": "markdown",
   "id": "9f9ed3d8-f4aa-4e33-a32f-7521ff1186a8",
   "metadata": {},
   "source": [
    "## 🔢 Tipi di dato fondamentali\n",
    "- `str`, `int`, `float`, `bool`, `None`\n",
    "- Definire una variabile\n",
    "- Uso della funzione `type()` \n",
    "- Commenti"
   ]
  },
  {
   "cell_type": "code",
   "execution_count": 91,
   "id": "165285d3-0ca5-4541-a1f5-1058cdaa1b70",
   "metadata": {},
   "outputs": [
    {
     "name": "stdout",
     "output_type": "stream",
     "text": [
      "Andrea\n"
     ]
    },
    {
     "data": {
      "text/plain": [
       "str"
      ]
     },
     "execution_count": 91,
     "metadata": {},
     "output_type": "execute_result"
    }
   ],
   "source": [
    "# Esploriamo le stringhe\n",
    "nome_persona = \"Andrea\"\n",
    "print(nome_persona)\n",
    "\n",
    "type(nome_persona)"
   ]
  },
  {
   "cell_type": "code",
   "execution_count": 108,
   "id": "a53a2f06-db3a-4e37-a274-f61778db0661",
   "metadata": {},
   "outputs": [
    {
     "name": "stdout",
     "output_type": "stream",
     "text": [
      "Eta': -20 | tipo: <class 'int'>\n",
      "Peso': -78.1 | tipo: <class 'float'>\n"
     ]
    }
   ],
   "source": [
    "# Esploriamo i tipi numerici (int e float)\n",
    "eta = -20     # int\n",
    "peso = -78.1  # float\n",
    "\n",
    "tipo_eta = type(eta)\n",
    "tipo_peso = type(peso)\n",
    "\n",
    "print(f\"Eta': {eta} | tipo: {tipo_eta}\")\n",
    "print(f\"Peso': {peso} | tipo: {tipo_peso}\")"
   ]
  },
  {
   "cell_type": "code",
   "execution_count": 111,
   "id": "214eebef-0511-4010-8738-7ee2e89131f0",
   "metadata": {},
   "outputs": [
    {
     "name": "stdout",
     "output_type": "stream",
     "text": [
      "True\n"
     ]
    },
    {
     "data": {
      "text/plain": [
       "bool"
      ]
     },
     "execution_count": 111,
     "metadata": {},
     "output_type": "execute_result"
    }
   ],
   "source": [
    "# Esploriamo i booleani\n",
    "maggiorenne = True\n",
    "print(maggiorenne)\n",
    "\n",
    "type(maggiorenne)"
   ]
  },
  {
   "cell_type": "code",
   "execution_count": 120,
   "id": "2e9f4ed2-f0ec-428b-abc2-30405d71d837",
   "metadata": {},
   "outputs": [
    {
     "name": "stdout",
     "output_type": "stream",
     "text": [
      "None\n"
     ]
    },
    {
     "data": {
      "text/plain": [
       "NoneType"
      ]
     },
     "execution_count": 120,
     "metadata": {},
     "output_type": "execute_result"
    }
   ],
   "source": [
    "# Esploriamo i booleani\n",
    "variabile2 = None\n",
    "\n",
    "print(variabile2)\n",
    "type(variabile2)"
   ]
  },
  {
   "cell_type": "markdown",
   "id": "8289da03-20d0-4806-a0f5-b8a49b7fd426",
   "metadata": {},
   "source": [
    "## Metodi o Funzioni"
   ]
  },
  {
   "cell_type": "code",
   "execution_count": 127,
   "id": "51e87854-2b2e-4952-ac4e-43f7a947755d",
   "metadata": {},
   "outputs": [
    {
     "name": "stdout",
     "output_type": "stream",
     "text": [
      "ciao\n",
      "<class 'int'>\n",
      "1.1\n"
     ]
    }
   ],
   "source": [
    "# Funzioni built-in (ex: print)\n",
    "print(\"ciao\")\n",
    "print(type(10))\n",
    "print(float(\"1.1\"))"
   ]
  },
  {
   "cell_type": "code",
   "execution_count": 147,
   "id": "cc7faeae-ad7c-485d-82d7-da9b4c9763e7",
   "metadata": {},
   "outputs": [
    {
     "name": "stdout",
     "output_type": "stream",
     "text": [
      "1 + 2 + 3\n"
     ]
    }
   ],
   "source": [
    "cognome = \"ciao\"\n",
    "type(cognome)\n",
    "cognome = cognome.capitalize()\n",
    "\n",
    "separator = \" + \"\n",
    "\n",
    "risultato_join = separator.join([\"1\", \"2\", \"3\"])\n",
    "print(risultato_join)\n"
   ]
  },
  {
   "cell_type": "code",
   "execution_count": 159,
   "id": "3264981e-13a6-4218-ad0a-3305deec6fd3",
   "metadata": {},
   "outputs": [
    {
     "name": "stdout",
     "output_type": "stream",
     "text": [
      "7\n"
     ]
    }
   ],
   "source": [
    "variabile = 77\n",
    "\n",
    "print(variabile.bit_length())"
   ]
  },
  {
   "cell_type": "code",
   "execution_count": 171,
   "id": "38267fde-cf77-4d0c-a03f-43e1940dba3a",
   "metadata": {},
   "outputs": [
    {
     "name": "stdout",
     "output_type": "stream",
     "text": [
      "Risultato: 3.3333333333333335 - Tipo: <class 'str'>\n"
     ]
    }
   ],
   "source": [
    "intero1 = 10\n",
    "intero2 = 3\n",
    "risultato = intero1 / intero2\n",
    "risultato_castato_ad_intero = str(risultato)\n",
    "\n",
    "print(f\"Risultato: {risultato_castato_ad_intero} - Tipo: {type(risultato_castato_ad_intero)}\")"
   ]
  },
  {
   "cell_type": "code",
   "execution_count": null,
   "id": "1213a456-743f-43ee-b949-ae0f427f60ee",
   "metadata": {},
   "outputs": [],
   "source": []
  }
 ],
 "metadata": {
  "kernelspec": {
   "display_name": "Python 3 (ipykernel)",
   "language": "python",
   "name": "python3"
  },
  "language_info": {
   "codemirror_mode": {
    "name": "ipython",
    "version": 3
   },
   "file_extension": ".py",
   "mimetype": "text/x-python",
   "name": "python",
   "nbconvert_exporter": "python",
   "pygments_lexer": "ipython3",
   "version": "3.13.5"
  }
 },
 "nbformat": 4,
 "nbformat_minor": 5
}
