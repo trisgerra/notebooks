{
 "cells": [
  {
   "cell_type": "markdown",
   "metadata": {},
   "source": [
    "# 🐍 Python 101\n",
    "Una veloce panoramica sul linguaggio di programmazione Python.\n",
    "\n",
    "---"
   ]
  },
  {
   "cell_type": "markdown",
   "metadata": {},
   "source": [
    "## Video e articolo:\n",
    "https://www.andreadigiacomo.dev/it/blog/python101"
   ]
  },
  {
   "cell_type": "markdown",
   "metadata": {},
   "source": [
    "## 🔢 Tipi di dato\n",
    "- `str`, `int`, `float`, `bool`, `None`\n",
    "- Uso di `type()` e `print()`\n",
    "- Commenti"
   ]
  },
  {
   "cell_type": "code",
   "execution_count": 8,
   "metadata": {},
   "outputs": [
    {
     "name": "stdout",
     "output_type": "stream",
     "text": [
      "Ciao\n",
      "Mario\n",
      "<class 'str'>\n"
     ]
    }
   ],
   "source": [
    "nome = \"Mario\"                           # str (usiamo le virgolette)\n",
    "cognome = 'Rossi'                        # str (usiamo i singoli apici) sconsigliato\n",
    "nome_completo = f\"{nome} {cognome}\"      # f-string (formatted string)\n",
    "\n",
    "eta = 22                                 # int (numero intero)\n",
    "guadagni_crypto = -1000                  # int negativo (comunque valido)\n",
    "\n",
    "liquidita= 1500.10                       # float (numero con decimali)\n",
    "guadagni_crypto_con_decimali = -1000.10  # float negativo\n",
    "\n",
    "maggiorenne = True                       # bool positivo\n",
    "ricco = False                            # bool negativo 🥲\n",
    "\n",
    "n = None                                 # NoneType\n",
    "\n",
    "# Funzioni built-in\n",
    "print(\"Ciao\")                            # stampa il valore della stringa passata\n",
    "print(nome)                              # stampa il valore della variabile nome\n",
    "tipo_cognome = type(cognome)             # RITORNA (non stampa) il tipo di cognome\n",
    "print(tipo_cognome)                      # stampa il valore della variabile \"tipo_cognome\"\n",
    "\n",
    "\n",
    "\n",
    "# Funzioni \"di classe\" (vederemo poi cosa intendiamo per istanza)\n",
    "ciao_maiuscolo = \"ciao\".upper()               # rende la stringa \"ciao\" maiuscola e la assegna alla variabile ciao_maiuscolo\n",
    "ciao_minuscolo = \"CIAO\".lower()               # rende la stringa \"CIAO\" minuscola e la assegna alla variabile ciao_minuscolo\n",
    "ciao_minuscolo = \"ciao\".lower()               # cambia il primo carattere della stringa \"ciao\" in maiuscolo\n",
    "\n",
    "valore_assoluto = abs(-10)                    # rimuove il segno negativo e ritorna il valore assoluto 10, lo assegna a valore_assoluto\n",
    "\n",
    "risultato_join = \" + \".join([\"1\", \"2\", \"3\"])  # esegue la funzione di join ed assegna \"1 + 2 + 3\" a risultato_join"
   ]
  },
  {
   "cell_type": "code",
   "execution_count": 9,
   "metadata": {},
   "outputs": [
    {
     "data": {
      "text/plain": [
       "\u001b[31mType:\u001b[39m        str\n",
       "\u001b[31mString form:\u001b[39m Mario\n",
       "\u001b[31mLength:\u001b[39m      5\n",
       "\u001b[31mDocstring:\u001b[39m  \n",
       "str(object='') -> str\n",
       "str(bytes_or_buffer[, encoding[, errors]]) -> str\n",
       "\n",
       "Create a new string object from the given object. If encoding or\n",
       "errors is specified, then the object must expose a data buffer\n",
       "that will be decoded using the given encoding and error handler.\n",
       "Otherwise, returns the result of object.__str__() (if defined)\n",
       "or repr(object).\n",
       "encoding defaults to 'utf-8'.\n",
       "errors defaults to 'strict'."
      ]
     },
     "metadata": {},
     "output_type": "display_data"
    }
   ],
   "source": [
    "# informazioni sulla variabile nome\n",
    "nome?"
   ]
  },
  {
   "cell_type": "code",
   "execution_count": 10,
   "metadata": {},
   "outputs": [
    {
     "data": {
      "text/plain": [
       "\u001b[31mSignature:\u001b[39m cognome.join(iterable, /)\n",
       "\u001b[31mDocstring:\u001b[39m\n",
       "Concatenate any number of strings.\n",
       "\n",
       "The string whose method is called is inserted in between each given string.\n",
       "The result is returned as a new string.\n",
       "\n",
       "Example: '.'.join(['ab', 'pq', 'rs']) -> 'ab.pq.rs'\n",
       "\u001b[31mType:\u001b[39m      builtin_function_or_method"
      ]
     },
     "metadata": {},
     "output_type": "display_data"
    }
   ],
   "source": [
    "# informazioni sulla funzione join disponibile per le variabili di tipo stringa\n",
    "cognome.join?"
   ]
  },
  {
   "cell_type": "code",
   "execution_count": null,
   "metadata": {},
   "outputs": [],
   "source": []
  }
 ],
 "metadata": {
  "kernelspec": {
   "display_name": "Python 3 (ipykernel)",
   "language": "python",
   "name": "python3"
  },
  "language_info": {
   "codemirror_mode": {
    "name": "ipython",
    "version": 3
   },
   "file_extension": ".py",
   "mimetype": "text/x-python",
   "name": "python",
   "nbconvert_exporter": "python",
   "pygments_lexer": "ipython3",
   "version": "3.13.5"
  }
 },
 "nbformat": 4,
 "nbformat_minor": 4
}
