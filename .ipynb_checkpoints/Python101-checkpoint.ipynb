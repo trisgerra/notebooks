{
 "cells": [
  {
   "cell_type": "markdown",
   "metadata": {},
   "source": [
    "# 🐍 Python 101\n",
    "Una veloce panoramica sul linguaggio di programmazione Python.\n",
    "\n",
    "---"
   ]
  },
  {
   "cell_type": "markdown",
   "metadata": {},
   "source": [
    "## 🔢 Tipi di dato\n",
    "- `int`, `float`, `str`, `bool`, `None`\n",
    "- Uso di `type()` e `print()`\n",
    "- Commenti"
   ]
  },
  {
   "cell_type": "code",
   "execution_count": 48,
   "metadata": {},
   "outputs": [],
   "source": [
    "a = 5           # int \n",
    "b = 3.00        # float\n",
    "c = \"CIAO\"     # str \n",
    "d = True        # bool\n",
    "\n",
    "n = None        # NoneType\n",
    "                # complex\n",
    "\n",
    "numeric_string = \"5\"\n",
    "res = float(numeric_string) * 5\n",
    "\n",
    "# print(res)\n",
    "# print(f\"Il valore e' {numeric_string} e il tipo e' {type(numeric_string)}\")"
   ]
  },
  {
   "cell_type": "code",
   "execution_count": 58,
   "metadata": {},
   "outputs": [
    {
     "name": "stdout",
     "output_type": "stream",
     "text": [
      "<class 'str'>\n",
      "10.0\n"
     ]
    }
   ],
   "source": [
    "a = \"10\"\n",
    "print(type(a))\n",
    "\n",
    "b = float(a)\n",
    "print(b)"
   ]
  },
  {
   "cell_type": "markdown",
   "metadata": {
    "jp-MarkdownHeadingCollapsed": true
   },
   "source": [
    "## 📦 Collezioni di dati\n",
    "- `list`, `tuple`, `set`, `dict`\n",
    "- Operazioni base su ciascuna"
   ]
  },
  {
   "cell_type": "code",
   "execution_count": 104,
   "metadata": {},
   "outputs": [],
   "source": [
    "my_list = [1, 2, 3, 3, True, \"ciao\"] # []\n",
    "my_tuple = (1, 2, 3, 3) # ()\n",
    "my_set = {1, 2, 3,3, 3, 3, 3, \"ciao\", \"prova\", \"el\", \"test\"}\n",
    "my_range = range(6, 21, 2)\n",
    "\n",
    "my_dict = {\n",
    "    \"a\": 1, \n",
    "    \"b\": \"test\",\n",
    "    \"lista\": [\"frutta\", \"pane\"],\n",
    "    \"new_dic\": {\n",
    "        \"brand\": \"Ferrari\",\n",
    "        \"model\": \"365 Modena\"\n",
    "    },\n",
    "}\n",
    "\n",
    "# my_tuple[0] = \"gigi\"\n",
    "# my_set.append(\"10\")\n",
    "# my_set.pop()\n",
    "# my_tuple.clear()"
   ]
  },
  {
   "cell_type": "markdown",
   "metadata": {
    "jp-MarkdownHeadingCollapsed": true
   },
   "source": [
    "## 🔁 Controllo di flusso: if, else, elif"
   ]
  },
  {
   "cell_type": "code",
   "execution_count": null,
   "metadata": {},
   "outputs": [],
   "source": [
    "x = -1\n",
    "if x > 0: \n",
    "    print(\"Positivo\")\n",
    "elif x == 0:\n",
    "    print(\"Zero\")\n",
    "else:\n",
    "    print(\"Negativo\")"
   ]
  },
  {
   "cell_type": "markdown",
   "metadata": {
    "jp-MarkdownHeadingCollapsed": true
   },
   "source": [
    "## 🔁 Loop: for, while, enumerate, range"
   ]
  },
  {
   "cell_type": "code",
   "execution_count": null,
   "metadata": {},
   "outputs": [],
   "source": [
    "for i in range(3):\n",
    "    print(f\"Valore: {i}\")\n",
    "\n",
    "items = [\"a\", \"b\", \"c\"]\n",
    "for index, value in enumerate(items):\n",
    "    print(index, value)\n",
    "\n",
    "count = 1\n",
    "while count <= 5:\n",
    "    print(\"While loop\", count)\n",
    "    count += 1"
   ]
  },
  {
   "cell_type": "markdown",
   "metadata": {
    "jp-MarkdownHeadingCollapsed": true
   },
   "source": [
    "## 🧠 Funzioni e lambda"
   ]
  },
  {
   "cell_type": "code",
   "execution_count": null,
   "metadata": {},
   "outputs": [],
   "source": [
    "def saluta(nome=\"Python\", cognome=\"lol\"):\n",
    "    return f\"Ciao, {nome} {cognome}!\"\n",
    "\n",
    "saluta()\n",
    "\n",
    "# Funzione lambda\n",
    "doppio = lambda x : x * 2\n",
    "print(doppio(2))"
   ]
  },
  {
   "cell_type": "markdown",
   "metadata": {
    "jp-MarkdownHeadingCollapsed": true
   },
   "source": [
    "## ⚙️ Map, filter, list comprehension"
   ]
  },
  {
   "cell_type": "code",
   "execution_count": null,
   "metadata": {},
   "outputs": [],
   "source": [
    "numeri = [1, 2, 3, 4, 5, 6]\n",
    "\n",
    "raddoppia = lambda x : x * 2\n",
    "filtra_pari = lambda x : not x % 2\n",
    "\n",
    "doppio = list(map(raddoppia, numeri))\n",
    "pari = list(filter(filtra_pari, numeri))\n",
    "\n",
    "\n",
    "comp = [x * 2 for x in numeri]\n",
    "# comp = [raddoppia(x) for x in numeri]\n",
    "comp = [raddoppia(x) for x in numeri if x % 2]\n",
    "print(comp)\n",
    "\n",
    "# print(\"Map:\", doppio)\n",
    "# print(\"Filter:\", pari)\n",
    "# print(\"Comprehension:\", comp)"
   ]
  },
  {
   "cell_type": "markdown",
   "metadata": {
    "jp-MarkdownHeadingCollapsed": true
   },
   "source": [
    "---\n",
    "## ✅ Fine del modulo Python 101\n",
    "Ora sei pronto/a per iniziare a scrivere codice vero!"
   ]
  },
  {
   "cell_type": "code",
   "execution_count": null,
   "metadata": {},
   "outputs": [],
   "source": []
  }
 ],
 "metadata": {
  "kernelspec": {
   "display_name": "Python 3 (ipykernel)",
   "language": "python",
   "name": "python3"
  },
  "language_info": {
   "codemirror_mode": {
    "name": "ipython",
    "version": 3
   },
   "file_extension": ".py",
   "mimetype": "text/x-python",
   "name": "python",
   "nbconvert_exporter": "python",
   "pygments_lexer": "ipython3",
   "version": "3.13.5"
  }
 },
 "nbformat": 4,
 "nbformat_minor": 4
}
